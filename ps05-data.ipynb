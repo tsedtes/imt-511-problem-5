{
 "cells": [
  {
   "cell_type": "markdown",
   "metadata": {
    "ein.tags": "worksheet-0",
    "slideshow": {
     "slide_type": "-"
    }
   },
   "source": [
    "# IMT 511 PS 05: data programming"
   ]
  },
  {
   "cell_type": "code",
   "execution_count": 28,
   "metadata": {
    "autoscroll": false,
    "ein.hycell": false,
    "ein.tags": "worksheet-0",
    "slideshow": {
     "slide_type": "-"
    }
   },
   "outputs": [],
   "source": [
    "import numpy as np\n",
    "import pandas as pd\n",
    "import matplotlib.pyplot as plt\n",
    "%matplotlib inline\n",
    "import os"
   ]
  },
  {
   "cell_type": "markdown",
   "metadata": {
    "ein.tags": "worksheet-0",
    "slideshow": {
     "slide_type": "-"
    }
   },
   "source": [
    "# read data\n",
    "\n",
    "read in the data file 'weatherHistory.csv.bz2'.  Understand it's\n",
    "structure.  Consult the companion text file for a brief variable\n",
    "descriptions.\n",
    "\n",
    "inspect a few lines of the data and find the number of rows and columns\n",
    "\n",
    "Hint: use pd.sample(), pd.head(), pd.tail()"
   ]
  },
  {
   "cell_type": "code",
   "execution_count": 30,
   "metadata": {
    "autoscroll": false,
    "ein.hycell": false,
    "ein.tags": "worksheet-0",
    "slideshow": {
     "slide_type": "-"
    }
   },
   "outputs": [
    {
     "name": "stdout",
     "output_type": "stream",
     "text": [
      "C:\\Users\\Yonas\n",
      "                                time        summary precip       temp  \\\n",
      "0      2006-04-01 00:00:00.000 +0200  Partly Cloudy   rain   9.472222   \n",
      "1      2006-04-01 01:00:00.000 +0200  Partly Cloudy   rain   9.355556   \n",
      "2      2006-04-01 02:00:00.000 +0200  Mostly Cloudy   rain   9.377778   \n",
      "3      2006-04-01 03:00:00.000 +0200  Partly Cloudy   rain   8.288889   \n",
      "4      2006-04-01 04:00:00.000 +0200  Mostly Cloudy   rain   8.755556   \n",
      "5      2006-04-01 05:00:00.000 +0200  Partly Cloudy   rain   9.222222   \n",
      "6      2006-04-01 06:00:00.000 +0200  Partly Cloudy   rain   7.733333   \n",
      "7      2006-04-01 07:00:00.000 +0200  Partly Cloudy   rain   8.772222   \n",
      "8      2006-04-01 08:00:00.000 +0200  Partly Cloudy   rain  10.822222   \n",
      "9      2006-04-01 09:00:00.000 +0200  Partly Cloudy   rain  13.772222   \n",
      "10     2006-04-01 10:00:00.000 +0200  Partly Cloudy   rain  16.016667   \n",
      "11     2006-04-01 11:00:00.000 +0200  Partly Cloudy   rain  17.144444   \n",
      "12     2006-04-01 12:00:00.000 +0200  Partly Cloudy   rain  17.800000   \n",
      "13     2006-04-01 13:00:00.000 +0200  Partly Cloudy   rain  17.333333   \n",
      "14     2006-04-01 14:00:00.000 +0200  Partly Cloudy   rain  18.877778   \n",
      "15     2006-04-01 15:00:00.000 +0200  Partly Cloudy   rain  18.911111   \n",
      "16     2006-04-01 16:00:00.000 +0200  Partly Cloudy   rain  15.388889   \n",
      "17     2006-04-01 17:00:00.000 +0200  Mostly Cloudy   rain  15.550000   \n",
      "18     2006-04-01 18:00:00.000 +0200  Mostly Cloudy   rain  14.255556   \n",
      "19     2006-04-01 19:00:00.000 +0200  Mostly Cloudy   rain  13.144444   \n",
      "20     2006-04-01 20:00:00.000 +0200  Mostly Cloudy   rain  11.550000   \n",
      "21     2006-04-01 21:00:00.000 +0200  Mostly Cloudy   rain  11.183333   \n",
      "22     2006-04-01 22:00:00.000 +0200  Partly Cloudy   rain  10.116667   \n",
      "23     2006-04-01 23:00:00.000 +0200  Mostly Cloudy   rain  10.200000   \n",
      "24     2006-04-10 00:00:00.000 +0200  Partly Cloudy   rain  10.422222   \n",
      "25     2006-04-10 01:00:00.000 +0200  Partly Cloudy   rain   9.911111   \n",
      "26     2006-04-10 02:00:00.000 +0200  Mostly Cloudy   rain  11.183333   \n",
      "27     2006-04-10 03:00:00.000 +0200  Partly Cloudy   rain   7.155556   \n",
      "28     2006-04-10 04:00:00.000 +0200  Partly Cloudy   rain   6.111111   \n",
      "29     2006-04-10 05:00:00.000 +0200  Partly Cloudy   rain   6.788889   \n",
      "...                              ...            ...    ...        ...   \n",
      "96423  2016-09-08 18:00:00.000 +0200  Partly Cloudy   rain  27.800000   \n",
      "96424  2016-09-08 19:00:00.000 +0200  Partly Cloudy   rain  24.905556   \n",
      "96425  2016-09-08 20:00:00.000 +0200  Partly Cloudy   rain  22.366667   \n",
      "96426  2016-09-08 21:00:00.000 +0200  Mostly Cloudy   rain  21.016667   \n",
      "96427  2016-09-08 22:00:00.000 +0200  Partly Cloudy   rain  19.927778   \n",
      "96428  2016-09-08 23:00:00.000 +0200  Partly Cloudy   rain  18.350000   \n",
      "96429  2016-09-09 00:00:00.000 +0200  Partly Cloudy   rain  17.755556   \n",
      "96430  2016-09-09 01:00:00.000 +0200          Clear   rain  16.622222   \n",
      "96431  2016-09-09 02:00:00.000 +0200          Clear   rain  16.144444   \n",
      "96432  2016-09-09 03:00:00.000 +0200          Clear   rain  15.594444   \n",
      "96433  2016-09-09 04:00:00.000 +0200          Clear   rain  15.011111   \n",
      "96434  2016-09-09 05:00:00.000 +0200          Clear   rain  15.016667   \n",
      "96435  2016-09-09 06:00:00.000 +0200          Clear   rain  13.872222   \n",
      "96436  2016-09-09 07:00:00.000 +0200          Clear   rain  16.072222   \n",
      "96437  2016-09-09 08:00:00.000 +0200  Partly Cloudy   rain  19.561111   \n",
      "96438  2016-09-09 09:00:00.000 +0200  Partly Cloudy   rain  22.138889   \n",
      "96439  2016-09-09 10:00:00.000 +0200  Partly Cloudy   rain  22.872222   \n",
      "96440  2016-09-09 11:00:00.000 +0200  Partly Cloudy   rain  27.072222   \n",
      "96441  2016-09-09 12:00:00.000 +0200  Partly Cloudy   rain  28.866667   \n",
      "96442  2016-09-09 13:00:00.000 +0200  Partly Cloudy   rain  30.994444   \n",
      "96443  2016-09-09 14:00:00.000 +0200  Partly Cloudy   rain  30.894444   \n",
      "96444  2016-09-09 15:00:00.000 +0200  Partly Cloudy   rain  31.083333   \n",
      "96445  2016-09-09 16:00:00.000 +0200  Partly Cloudy   rain  31.083333   \n",
      "96446  2016-09-09 17:00:00.000 +0200  Partly Cloudy   rain  30.766667   \n",
      "96447  2016-09-09 18:00:00.000 +0200  Partly Cloudy   rain  28.838889   \n",
      "96448  2016-09-09 19:00:00.000 +0200  Partly Cloudy   rain  26.016667   \n",
      "96449  2016-09-09 20:00:00.000 +0200  Partly Cloudy   rain  24.583333   \n",
      "96450  2016-09-09 21:00:00.000 +0200  Partly Cloudy   rain  22.038889   \n",
      "96451  2016-09-09 22:00:00.000 +0200  Partly Cloudy   rain  21.522222   \n",
      "96452  2016-09-09 23:00:00.000 +0200  Partly Cloudy   rain  20.438889   \n",
      "\n",
      "         appTemp  humidity     wind  bearing  visibility  cloudCover  \\\n",
      "0       7.388889      0.89  14.1197    251.0     15.8263         0.0   \n",
      "1       7.227778      0.86  14.2646    259.0     15.8263         0.0   \n",
      "2       9.377778      0.89   3.9284    204.0     14.9569         0.0   \n",
      "3       5.944444      0.83  14.1036    269.0     15.8263         0.0   \n",
      "4       6.977778      0.83  11.0446    259.0     15.8263         0.0   \n",
      "5       7.111111      0.85  13.9587    258.0     14.9569         0.0   \n",
      "6       5.522222      0.95  12.3648    259.0      9.9820         0.0   \n",
      "7       6.527778      0.89  14.1519    260.0      9.9820         0.0   \n",
      "8      10.822222      0.82  11.3183    259.0      9.9820         0.0   \n",
      "9      13.772222      0.72  12.5258    279.0      9.9820         0.0   \n",
      "10     16.016667      0.67  17.5651    290.0     11.2056         0.0   \n",
      "11     17.144444      0.54  19.7869    316.0     11.4471         0.0   \n",
      "12     17.800000      0.55  21.9443    281.0     11.2700         0.0   \n",
      "13     17.333333      0.51  20.6885    289.0     11.2700         0.0   \n",
      "14     18.877778      0.47  15.3755    262.0     11.4471         0.0   \n",
      "15     18.911111      0.46  10.4006    288.0     11.2700         0.0   \n",
      "16     15.388889      0.60  14.4095    251.0     11.2700         0.0   \n",
      "17     15.550000      0.63  11.1573    230.0     11.4471         0.0   \n",
      "18     14.255556      0.69   8.5169    163.0     11.2056         0.0   \n",
      "19     13.144444      0.70   7.6314    139.0     11.2056         0.0   \n",
      "20     11.550000      0.77   7.3899    147.0     11.0285         0.0   \n",
      "21     11.183333      0.76   4.9266    160.0      9.9820         0.0   \n",
      "22     10.116667      0.79   6.6493    163.0     15.8263         0.0   \n",
      "23     10.200000      0.77   3.9284    152.0     14.9569         0.0   \n",
      "24     10.422222      0.62  16.9855    150.0     15.8263         0.0   \n",
      "25      7.566667      0.66  17.2109    149.0     15.8263         0.0   \n",
      "26     11.183333      0.80  10.8192    163.0     14.9569         0.0   \n",
      "27      5.044444      0.79  11.0768    180.0     15.8263         0.0   \n",
      "28      4.816667      0.82   6.6493    161.0     15.8263         0.0   \n",
      "29      4.272222      0.83  13.0088    135.0     14.9569         0.0   \n",
      "...          ...       ...      ...      ...         ...         ...   \n",
      "96423  27.050000      0.32   3.0751    120.0     16.1000         0.0   \n",
      "96424  24.905556      0.51   0.0000      0.0     16.1000         0.0   \n",
      "96425  22.366667      0.58   3.3327    135.0     15.5526         0.0   \n",
      "96426  21.016667      0.64   3.2200    340.0     16.1000         0.0   \n",
      "96427  19.927778      0.71   3.1556    302.0     16.1000         0.0   \n",
      "96428  18.350000      0.77   3.2200     53.0     15.5526         0.0   \n",
      "96429  17.755556      0.81   2.9624     12.0     16.1000         0.0   \n",
      "96430  16.622222      0.87   3.4293    349.0     16.1000         0.0   \n",
      "96431  16.144444      0.87   3.6547     16.0     15.1501         0.0   \n",
      "96432  15.594444      0.87   3.2844     41.0     15.4399         0.0   \n",
      "96433  15.011111      0.93   3.2039    341.0     15.8263         0.0   \n",
      "96434  15.016667      0.90   2.7048    359.0     14.9569         0.0   \n",
      "96435  13.872222      0.93   4.7495      0.0     15.8263         0.0   \n",
      "96436  16.072222      0.88   2.7853     12.0     15.7297         0.0   \n",
      "96437  19.561111      0.75   3.7191     12.0     14.9569         0.0   \n",
      "96438  22.138889      0.65   7.7763     30.0     16.1000         0.0   \n",
      "96439  22.872222      0.59   6.4239     49.0     16.1000         0.0   \n",
      "96440  27.022222      0.42  12.0106     49.0     15.5526         0.0   \n",
      "96441  28.216667      0.37  13.9265     61.0     16.1000         0.0   \n",
      "96442  29.972222      0.33  15.6170     70.0     16.1000         0.0   \n",
      "96443  29.450000      0.28  14.7798     43.0     15.5526         0.0   \n",
      "96444  29.616667      0.28  15.5043     40.0     16.1000         0.0   \n",
      "96445  29.611111      0.28  13.8943     40.0     16.1000         0.0   \n",
      "96446  29.311111      0.28  14.2163     24.0     15.5526         0.0   \n",
      "96447  27.850000      0.32  12.2038     21.0     16.1000         0.0   \n",
      "96448  26.016667      0.43  10.9963     31.0     16.1000         0.0   \n",
      "96449  24.583333      0.48  10.0947     20.0     15.5526         0.0   \n",
      "96450  22.038889      0.56   8.9838     30.0     16.1000         0.0   \n",
      "96451  21.522222      0.60  10.5294     20.0     16.1000         0.0   \n",
      "96452  20.438889      0.61   5.8765     39.0     15.5204         0.0   \n",
      "\n",
      "       pressumre                            dailySummary  \n",
      "0        1015.13       Partly cloudy throughout the day.  \n",
      "1        1015.63       Partly cloudy throughout the day.  \n",
      "2        1015.94       Partly cloudy throughout the day.  \n",
      "3        1016.41       Partly cloudy throughout the day.  \n",
      "4        1016.51       Partly cloudy throughout the day.  \n",
      "5        1016.66       Partly cloudy throughout the day.  \n",
      "6        1016.72       Partly cloudy throughout the day.  \n",
      "7        1016.84       Partly cloudy throughout the day.  \n",
      "8        1017.37       Partly cloudy throughout the day.  \n",
      "9        1017.22       Partly cloudy throughout the day.  \n",
      "10       1017.42       Partly cloudy throughout the day.  \n",
      "11       1017.74       Partly cloudy throughout the day.  \n",
      "12       1017.59       Partly cloudy throughout the day.  \n",
      "13       1017.48       Partly cloudy throughout the day.  \n",
      "14       1017.17       Partly cloudy throughout the day.  \n",
      "15       1016.47       Partly cloudy throughout the day.  \n",
      "16       1016.15       Partly cloudy throughout the day.  \n",
      "17       1016.17       Partly cloudy throughout the day.  \n",
      "18       1015.82       Partly cloudy throughout the day.  \n",
      "19       1015.83       Partly cloudy throughout the day.  \n",
      "20       1015.85       Partly cloudy throughout the day.  \n",
      "21       1015.77       Partly cloudy throughout the day.  \n",
      "22       1015.40       Partly cloudy throughout the day.  \n",
      "23       1015.51       Partly cloudy throughout the day.  \n",
      "24       1014.40       Mostly cloudy throughout the day.  \n",
      "25       1014.20       Mostly cloudy throughout the day.  \n",
      "26       1008.71       Mostly cloudy throughout the day.  \n",
      "27       1014.47       Mostly cloudy throughout the day.  \n",
      "28       1014.45       Mostly cloudy throughout the day.  \n",
      "29       1014.49       Mostly cloudy throughout the day.  \n",
      "...          ...                                     ...  \n",
      "96423    1014.04       Partly cloudy starting overnight.  \n",
      "96424    1014.14       Partly cloudy starting overnight.  \n",
      "96425    1014.34       Partly cloudy starting overnight.  \n",
      "96426    1014.73       Partly cloudy starting overnight.  \n",
      "96427    1014.63       Partly cloudy starting overnight.  \n",
      "96428    1014.68       Partly cloudy starting overnight.  \n",
      "96429    1014.65  Partly cloudy starting in the morning.  \n",
      "96430    1014.56  Partly cloudy starting in the morning.  \n",
      "96431    1014.69  Partly cloudy starting in the morning.  \n",
      "96432    1014.52  Partly cloudy starting in the morning.  \n",
      "96433    1014.37  Partly cloudy starting in the morning.  \n",
      "96434    1014.55  Partly cloudy starting in the morning.  \n",
      "96435    1014.66  Partly cloudy starting in the morning.  \n",
      "96436    1015.25  Partly cloudy starting in the morning.  \n",
      "96437    1015.28  Partly cloudy starting in the morning.  \n",
      "96438    1015.46  Partly cloudy starting in the morning.  \n",
      "96439    1015.65  Partly cloudy starting in the morning.  \n",
      "96440    1015.44  Partly cloudy starting in the morning.  \n",
      "96441    1015.35  Partly cloudy starting in the morning.  \n",
      "96442    1014.86  Partly cloudy starting in the morning.  \n",
      "96443    1014.66  Partly cloudy starting in the morning.  \n",
      "96444    1014.17  Partly cloudy starting in the morning.  \n",
      "96445    1013.97  Partly cloudy starting in the morning.  \n",
      "96446    1013.83  Partly cloudy starting in the morning.  \n",
      "96447    1014.07  Partly cloudy starting in the morning.  \n",
      "96448    1014.36  Partly cloudy starting in the morning.  \n",
      "96449    1015.16  Partly cloudy starting in the morning.  \n",
      "96450    1015.66  Partly cloudy starting in the morning.  \n",
      "96451    1015.95  Partly cloudy starting in the morning.  \n",
      "96452    1016.16  Partly cloudy starting in the morning.  \n",
      "\n",
      "[96453 rows x 12 columns]\n"
     ]
    }
   ],
   "source": [
    "print(os.getcwd())\n",
    "weather = pd.read_csv('C:\\\\Python\\\\IMT511\\\\Day5\\\\imt-511-problem-5\\\\weatherHistory.csv.bz2')\n",
    "print(weather)\n",
    "\n",
    "\n"
   ]
  },
  {
   "cell_type": "markdown",
   "metadata": {
    "ein.tags": "worksheet-0",
    "slideshow": {
     "slide_type": "-"
    }
   },
   "source": [
    "## Select 2015 observations only\n",
    "\n",
    "Select only observations for 2015.\n",
    "\n",
    "Hint: 'time' is of a string data type (well, it is a Series of\n",
    "string).  Use string methods to select 2015 data only.\n",
    "\n",
    "Hint2: you have to use `.str` attribute to get a string out of series.\n",
    "\n",
    "Hint3: don't just make a subset, make a copy of subset.\n",
    "\n",
    "Find how many observations are there for 2015 only."
   ]
  },
  {
   "cell_type": "code",
   "execution_count": null,
   "metadata": {
    "autoscroll": false,
    "ein.tags": "worksheet-0",
    "slideshow": {
     "slide_type": "-"
    }
   },
   "outputs": [],
   "source": [
    "#df['time'] = str.sub[re.sub('a','x') for x in df.City] print(df)\n",
    "\n"
   ]
  },
  {
   "cell_type": "markdown",
   "metadata": {
    "ein.tags": "worksheet-0",
    "slideshow": {
     "slide_type": "-"
    }
   },
   "source": [
    "## Create a new variable 'timestamp' which is variable 'time'\n",
    "## converted to datetime type\n",
    "\n",
    "Hint: use Pandas.to_datetime\n",
    "(code given, adjust variable names)"
   ]
  },
  {
   "cell_type": "code",
   "execution_count": 25,
   "metadata": {
    "autoscroll": false,
    "ein.tags": "worksheet-0",
    "slideshow": {
     "slide_type": "-"
    }
   },
   "outputs": [
    {
     "ename": "NameError",
     "evalue": "name 'data' is not defined",
     "output_type": "error",
     "traceback": [
      "\u001b[1;31m---------------------------------------------------------------------------\u001b[0m",
      "\u001b[1;31mNameError\u001b[0m                                 Traceback (most recent call last)",
      "\u001b[1;32m<ipython-input-25-65abab95bcca>\u001b[0m in \u001b[0;36m<module>\u001b[1;34m()\u001b[0m\n\u001b[1;32m----> 1\u001b[1;33m \u001b[0mdata\u001b[0m\u001b[1;33m[\u001b[0m\u001b[1;34m'timestamp'\u001b[0m\u001b[1;33m]\u001b[0m \u001b[1;33m=\u001b[0m \u001b[0mpd\u001b[0m\u001b[1;33m.\u001b[0m\u001b[0mto_datetime\u001b[0m\u001b[1;33m(\u001b[0m\u001b[0mdata\u001b[0m\u001b[1;33m.\u001b[0m\u001b[0mtime\u001b[0m\u001b[1;33m)\u001b[0m\u001b[1;33m\u001b[0m\u001b[0m\n\u001b[0m",
      "\u001b[1;31mNameError\u001b[0m: name 'data' is not defined"
     ]
    }
   ],
   "source": [
    "data['timestamp'] = pd.to_datetime(data.time)\n"
   ]
  },
  {
   "cell_type": "markdown",
   "metadata": {
    "ein.tags": "worksheet-0",
    "slideshow": {
     "slide_type": "-"
    }
   },
   "source": [
    "## Sort data by date\n",
    "\n",
    "This data is in an arbitrary order.  Ensure it is ordered by time\n",
    "\n",
    "Hint: use Pandas.sort_values method"
   ]
  },
  {
   "cell_type": "code",
   "execution_count": 11,
   "metadata": {
    "autoscroll": false,
    "ein.tags": "worksheet-0",
    "slideshow": {
     "slide_type": "-"
    }
   },
   "outputs": [
    {
     "ename": "AttributeError",
     "evalue": "module 'pandas' has no attribute 'sort_values'",
     "output_type": "error",
     "traceback": [
      "\u001b[1;31m---------------------------------------------------------------------------\u001b[0m",
      "\u001b[1;31mAttributeError\u001b[0m                            Traceback (most recent call last)",
      "\u001b[1;32m<ipython-input-11-550b43440fbd>\u001b[0m in \u001b[0;36m<module>\u001b[1;34m()\u001b[0m\n\u001b[1;32m----> 1\u001b[1;33m \u001b[0mpd\u001b[0m\u001b[1;33m.\u001b[0m\u001b[0msort_values\u001b[0m\u001b[1;33m(\u001b[0m\u001b[1;34m'timestamp'\u001b[0m\u001b[1;33m,\u001b[0m \u001b[0mascending\u001b[0m\u001b[1;33m=\u001b[0m\u001b[1;32mFalse\u001b[0m\u001b[1;33m)\u001b[0m\u001b[1;33m\u001b[0m\u001b[0m\n\u001b[0m\u001b[0;32m      2\u001b[0m \u001b[1;33m\u001b[0m\u001b[0m\n",
      "\u001b[1;31mAttributeError\u001b[0m: module 'pandas' has no attribute 'sort_values'"
     ]
    }
   ],
   "source": [
    "pd.sort_values('timestamp', ascending=False)\n",
    "\n"
   ]
  },
  {
   "cell_type": "markdown",
   "metadata": {
    "ein.tags": "worksheet-0",
    "slideshow": {
     "slide_type": "-"
    }
   },
   "source": [
    "# Noon temperature only\n",
    "\n",
    "Select a subset from your 2015 data that only contains data for noon\n",
    "(12:00:00).\n",
    "\n",
    "Hint: you can either find a string, corresponding to noon, in the\n",
    "string variable 'time', or extract hour from the timestamp like this:\n",
    "`w15.timestamp.apply(lambda x: x.hour)`\n",
    "This example code creates a variable that is only the hour (0-23)."
   ]
  },
  {
   "cell_type": "code",
   "execution_count": null,
   "metadata": {
    "autoscroll": false,
    "ein.tags": "worksheet-0",
    "slideshow": {
     "slide_type": "-"
    }
   },
   "outputs": [],
   "source": [
    "w15noon = w15[w15.time.str.contains(' 12:00:00', regex=False)].copy()\n",
    "print(w15noon.shape)\n",
    "print(w15noon.head(5))\n"
   ]
  },
  {
   "cell_type": "markdown",
   "metadata": {
    "ein.tags": "worksheet-0",
    "slideshow": {
     "slide_type": "-"
    }
   },
   "source": [
    "# make a plot\n",
    "\n",
    "Make a plot that depicts the temperature through 2015\n",
    "Add a descriptive title, label the axis.  Use a good font size. \n",
    "Use a non-default line color for the plot."
   ]
  },
  {
   "cell_type": "code",
   "execution_count": null,
   "metadata": {
    "autoscroll": false,
    "ein.tags": "worksheet-0",
    "slideshow": {
     "slide_type": "-"
    }
   },
   "outputs": [],
   "source": [
    "plt.figure(figsize=(10,10))\n",
    "# ..."
   ]
  }
 ],
 "metadata": {
  "kernelspec": {
   "display_name": "Python 3",
   "language": "python",
   "name": "python3"
  },
  "language_info": {
   "codemirror_mode": {
    "name": "ipython",
    "version": 3
   },
   "file_extension": ".py",
   "mimetype": "text/x-python",
   "name": "python",
   "nbconvert_exporter": "python",
   "pygments_lexer": "ipython3",
   "version": "3.6.3"
  },
  "name": "ps05-data.ipynb"
 },
 "nbformat": 4,
 "nbformat_minor": 2
}
